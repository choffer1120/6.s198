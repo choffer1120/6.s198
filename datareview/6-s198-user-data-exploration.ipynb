{
 "cells": [
  {
   "cell_type": "code",
   "execution_count": 1,
   "metadata": {
    "_uuid": "e7b2d3f9b44af9c3f64f91d183b8e9cb6b7adddd"
   },
   "outputs": [],
   "source": [
    "import numpy as np\n",
    "import pandas as pd\n",
    "import matplotlib.pyplot as plt\n",
    "import seaborn as sns\n",
    "\n",
    "# Draw inline\n",
    "%matplotlib inline\n",
    "\n",
    "# Set figure aesthetics\n",
    "sns.set_style(\"white\", {'ytick.major.size': 10.0})\n",
    "sns.set_context(\"poster\", font_scale=1.1)"
   ]
  },
  {
   "cell_type": "markdown",
   "metadata": {
    "_uuid": "45f9941c0b93e026853c3ce875d158a63449f27d"
   },
   "source": [
    "I wanted to take a look at the user data we have for this competition so I made this little notebook to share my findings and discuss about those. At the moment I've started with the basic user data, I'll take a look at sessions and the other *csv* files later on this month.\n",
    "\n",
    "Please, feel free to comment with anything you think it can be improved or fixed. I am not a professional in this field and there will be mistakes or things that can be *improved*. This is the flow I took and there are some plots not really interesting but I thought on keeping it in case someone see something interesting.\n",
    "\n",
    "Let's see the data!"
   ]
  },
  {
   "cell_type": "markdown",
   "metadata": {
    "_uuid": "478b3dee9a3c2f3ff279955d0844664288bda621"
   },
   "source": [
    "## Data Exploration"
   ]
  },
  {
   "cell_type": "markdown",
   "metadata": {
    "_uuid": "7af41496c24fc81b911d97142b40a731fdf4e164"
   },
   "source": [
    "Generally, when I start with a Data Science project I'm looking to answer the following questions:\n",
    "\n",
    "- Is there any mistakes in the data?\n",
    "- Does the data have peculiar behavior?\n",
    "- Do I need to fix or remove any of the data to be more realistic?"
   ]
  },
  {
   "cell_type": "code",
   "execution_count": 2,
   "metadata": {
    "_uuid": "ec61fd9d5451c342f2d811989bfc5f29b1ffdfbf"
   },
   "outputs": [],
   "source": [
    "# Load the data into DataFrames\n",
    "train_users = pd.read_csv('dataset/train_users_2.csv')\n",
    "test_users = pd.read_csv('dataset/test_users.csv')"
   ]
  },
  {
   "cell_type": "code",
   "execution_count": 3,
   "metadata": {
    "_uuid": "af3bcef5cdd04f64bd1a859250c0429c69950ab7"
   },
   "outputs": [
    {
     "name": "stdout",
     "output_type": "stream",
     "text": [
      "We have 213451 users in the training set and 62096 in the test set.\n",
      "In total we have 275547 users.\n"
     ]
    }
   ],
   "source": [
    "print(\"We have\", train_users.shape[0], \"users in the training set and\", \n",
    "      test_users.shape[0], \"in the test set.\")\n",
    "print(\"In total we have\", train_users.shape[0] + test_users.shape[0], \"users.\")"
   ]
  },
  {
   "cell_type": "markdown",
   "metadata": {
    "_uuid": "4bce84d0f8b6a86daa318fd19c8fa145764eb63d"
   },
   "source": [
    "Let's get those together so we can work with all the data."
   ]
  },
  {
   "cell_type": "code",
   "execution_count": 4,
   "metadata": {
    "_uuid": "8033a81ad6fb5902eafa15b7760b0fdb32418ff8"
   },
   "outputs": [
    {
     "data": {
      "text/html": [
       "<div>\n",
       "<style scoped>\n",
       "    .dataframe tbody tr th:only-of-type {\n",
       "        vertical-align: middle;\n",
       "    }\n",
       "\n",
       "    .dataframe tbody tr th {\n",
       "        vertical-align: top;\n",
       "    }\n",
       "\n",
       "    .dataframe thead th {\n",
       "        text-align: right;\n",
       "    }\n",
       "</style>\n",
       "<table border=\"1\" class=\"dataframe\">\n",
       "  <thead>\n",
       "    <tr style=\"text-align: right;\">\n",
       "      <th></th>\n",
       "      <th>affiliate_channel</th>\n",
       "      <th>affiliate_provider</th>\n",
       "      <th>age</th>\n",
       "      <th>country_destination</th>\n",
       "      <th>date_account_created</th>\n",
       "      <th>date_first_booking</th>\n",
       "      <th>first_affiliate_tracked</th>\n",
       "      <th>first_browser</th>\n",
       "      <th>first_device_type</th>\n",
       "      <th>gender</th>\n",
       "      <th>language</th>\n",
       "      <th>signup_app</th>\n",
       "      <th>signup_flow</th>\n",
       "      <th>signup_method</th>\n",
       "      <th>timestamp_first_active</th>\n",
       "    </tr>\n",
       "  </thead>\n",
       "  <tbody>\n",
       "    <tr>\n",
       "      <th>0</th>\n",
       "      <td>direct</td>\n",
       "      <td>direct</td>\n",
       "      <td>NaN</td>\n",
       "      <td>NDF</td>\n",
       "      <td>2010-06-28</td>\n",
       "      <td>NaN</td>\n",
       "      <td>untracked</td>\n",
       "      <td>Chrome</td>\n",
       "      <td>Mac Desktop</td>\n",
       "      <td>-unknown-</td>\n",
       "      <td>en</td>\n",
       "      <td>Web</td>\n",
       "      <td>0</td>\n",
       "      <td>facebook</td>\n",
       "      <td>20090319043255</td>\n",
       "    </tr>\n",
       "    <tr>\n",
       "      <th>1</th>\n",
       "      <td>seo</td>\n",
       "      <td>google</td>\n",
       "      <td>38.0</td>\n",
       "      <td>NDF</td>\n",
       "      <td>2011-05-25</td>\n",
       "      <td>NaN</td>\n",
       "      <td>untracked</td>\n",
       "      <td>Chrome</td>\n",
       "      <td>Mac Desktop</td>\n",
       "      <td>MALE</td>\n",
       "      <td>en</td>\n",
       "      <td>Web</td>\n",
       "      <td>0</td>\n",
       "      <td>facebook</td>\n",
       "      <td>20090523174809</td>\n",
       "    </tr>\n",
       "    <tr>\n",
       "      <th>2</th>\n",
       "      <td>direct</td>\n",
       "      <td>direct</td>\n",
       "      <td>56.0</td>\n",
       "      <td>US</td>\n",
       "      <td>2010-09-28</td>\n",
       "      <td>2010-08-02</td>\n",
       "      <td>untracked</td>\n",
       "      <td>IE</td>\n",
       "      <td>Windows Desktop</td>\n",
       "      <td>FEMALE</td>\n",
       "      <td>en</td>\n",
       "      <td>Web</td>\n",
       "      <td>3</td>\n",
       "      <td>basic</td>\n",
       "      <td>20090609231247</td>\n",
       "    </tr>\n",
       "    <tr>\n",
       "      <th>3</th>\n",
       "      <td>direct</td>\n",
       "      <td>direct</td>\n",
       "      <td>42.0</td>\n",
       "      <td>other</td>\n",
       "      <td>2011-12-05</td>\n",
       "      <td>2012-09-08</td>\n",
       "      <td>untracked</td>\n",
       "      <td>Firefox</td>\n",
       "      <td>Mac Desktop</td>\n",
       "      <td>FEMALE</td>\n",
       "      <td>en</td>\n",
       "      <td>Web</td>\n",
       "      <td>0</td>\n",
       "      <td>facebook</td>\n",
       "      <td>20091031060129</td>\n",
       "    </tr>\n",
       "    <tr>\n",
       "      <th>4</th>\n",
       "      <td>direct</td>\n",
       "      <td>direct</td>\n",
       "      <td>41.0</td>\n",
       "      <td>US</td>\n",
       "      <td>2010-09-14</td>\n",
       "      <td>2010-02-18</td>\n",
       "      <td>untracked</td>\n",
       "      <td>Chrome</td>\n",
       "      <td>Mac Desktop</td>\n",
       "      <td>-unknown-</td>\n",
       "      <td>en</td>\n",
       "      <td>Web</td>\n",
       "      <td>0</td>\n",
       "      <td>basic</td>\n",
       "      <td>20091208061105</td>\n",
       "    </tr>\n",
       "  </tbody>\n",
       "</table>\n",
       "</div>"
      ],
      "text/plain": [
       "  affiliate_channel affiliate_provider   age country_destination  \\\n",
       "0            direct             direct   NaN                 NDF   \n",
       "1               seo             google  38.0                 NDF   \n",
       "2            direct             direct  56.0                  US   \n",
       "3            direct             direct  42.0               other   \n",
       "4            direct             direct  41.0                  US   \n",
       "\n",
       "  date_account_created date_first_booking first_affiliate_tracked  \\\n",
       "0           2010-06-28                NaN               untracked   \n",
       "1           2011-05-25                NaN               untracked   \n",
       "2           2010-09-28         2010-08-02               untracked   \n",
       "3           2011-12-05         2012-09-08               untracked   \n",
       "4           2010-09-14         2010-02-18               untracked   \n",
       "\n",
       "  first_browser first_device_type     gender language signup_app  signup_flow  \\\n",
       "0        Chrome       Mac Desktop  -unknown-       en        Web            0   \n",
       "1        Chrome       Mac Desktop       MALE       en        Web            0   \n",
       "2            IE   Windows Desktop     FEMALE       en        Web            3   \n",
       "3       Firefox       Mac Desktop     FEMALE       en        Web            0   \n",
       "4        Chrome       Mac Desktop  -unknown-       en        Web            0   \n",
       "\n",
       "  signup_method  timestamp_first_active  \n",
       "0      facebook          20090319043255  \n",
       "1      facebook          20090523174809  \n",
       "2         basic          20090609231247  \n",
       "3      facebook          20091031060129  \n",
       "4         basic          20091208061105  "
      ]
     },
     "execution_count": 4,
     "metadata": {},
     "output_type": "execute_result"
    }
   ],
   "source": [
    "# Merge train and test users\n",
    "users = pd.concat((train_users, test_users), axis=0, ignore_index=True)\n",
    "\n",
    "# Remove ID's since now we are not interested in making predictions\n",
    "users.drop('id',axis=1, inplace=True)\n",
    "\n",
    "users.head()"
   ]
  },
  {
   "cell_type": "markdown",
   "metadata": {
    "_uuid": "27c1f39ed90cc3b15f30e8ea901803849707b1ea"
   },
   "source": [
    "The data seems to be in an ussable format so the next important thing is to take a look at the missing data."
   ]
  },
  {
   "cell_type": "markdown",
   "metadata": {
    "_uuid": "568f74436c44a982d4cf80b5b03b7cb22a8e85db"
   },
   "source": [
    "### Missing Data"
   ]
  },
  {
   "cell_type": "markdown",
   "metadata": {
    "_uuid": "ab39dcffc071d2233d75cabf56c0c768314edac7"
   },
   "source": [
    "Usually the missing data comes in the way of *NaN*, but if we take a look at the DataFrame printed above we can see at the `gender` column some values being `-unknown-`. We will need to transform those values into *NaN* first:"
   ]
  },
  {
   "cell_type": "code",
   "execution_count": 5,
   "metadata": {
    "_uuid": "2d610103e114272f25488d17be3ca2a0287185be"
   },
   "outputs": [],
   "source": [
    "users.gender.replace('-unknown-', np.nan, inplace=True)"
   ]
  },
  {
   "cell_type": "markdown",
   "metadata": {
    "_uuid": "7e83f0df87d396e0207687a18101dc9cfefa025b"
   },
   "source": [
    "Now let's see how much data we are missing. For this purpose let's compute the NaN percentage of each feature."
   ]
  },
  {
   "cell_type": "code",
   "execution_count": 6,
   "metadata": {
    "_uuid": "11ededb168ec1a98a691cae08419d214145484de"
   },
   "outputs": [
    {
     "data": {
      "text/plain": [
       "age                        42.412365\n",
       "date_first_booking         67.733998\n",
       "first_affiliate_tracked     2.208335\n",
       "gender                     46.990169\n",
       "dtype: float64"
      ]
     },
     "execution_count": 6,
     "metadata": {},
     "output_type": "execute_result"
    }
   ],
   "source": [
    "users_nan = (users.isnull().sum() / users.shape[0]) * 100\n",
    "users_nan[users_nan > 0].drop('country_destination')"
   ]
  },
  {
   "cell_type": "markdown",
   "metadata": {
    "_uuid": "d6c982eccab3c25cc8b12b4f43e3db5de218033d"
   },
   "source": [
    "We have quite a lot of *NaN* in the `age` and `gender` wich will yield in lesser performance of the classifiers we will build. The feature `date_first_booking` has a 58% of NaN values because this feature is not present at the tests users, and therefore, we won't need it at the *modeling* part."
   ]
  },
  {
   "cell_type": "code",
   "execution_count": 7,
   "metadata": {
    "_uuid": "9b5872253cb3a5d810812444c42dd8889434ad99"
   },
   "outputs": [
    {
     "name": "stdout",
     "output_type": "stream",
     "text": [
      "Just for the sake of curiosity; we have 58 % of missing values at date_first_booking in the training data\n"
     ]
    }
   ],
   "source": [
    "print(\"Just for the sake of curiosity; we have\", \n",
    "      int((train_users.date_first_booking.isnull().sum() / train_users.shape[0]) * 100), \n",
    "      \"% of missing values at date_first_booking in the training data\")"
   ]
  },
  {
   "cell_type": "markdown",
   "metadata": {
    "_uuid": "cd18487ee9dbc89c3e2327946006079c3db73a05"
   },
   "source": [
    "The other feature with a high rate of *NaN* was `age`. Let's see:"
   ]
  },
  {
   "cell_type": "code",
   "execution_count": 8,
   "metadata": {
    "_uuid": "d9663c4fadc7d7baa7b09b1c3ae2cc731251d8ee"
   },
   "outputs": [
    {
     "data": {
      "text/plain": [
       "count    158681.000000\n",
       "mean         47.145310\n",
       "std         142.629468\n",
       "min           1.000000\n",
       "25%          28.000000\n",
       "50%          33.000000\n",
       "75%          42.000000\n",
       "max        2014.000000\n",
       "Name: age, dtype: float64"
      ]
     },
     "execution_count": 8,
     "metadata": {},
     "output_type": "execute_result"
    }
   ],
   "source": [
    "users.age.describe()"
   ]
  },
  {
   "cell_type": "markdown",
   "metadata": {
    "_uuid": "c2653d5269506f302d9e7d27a6c4ddeeef862ebc"
   },
   "source": [
    "There is some inconsistency in the age of some users as we can see above. It could be because the `age` inpout field was not sanitized or there was some mistakes handlig the data."
   ]
  },
  {
   "cell_type": "code",
   "execution_count": 9,
   "metadata": {
    "_uuid": "912f1874ae34eb1fc4412a613034fd9c0c43b569"
   },
   "outputs": [
    {
     "name": "stdout",
     "output_type": "stream",
     "text": [
      "830\n",
      "188\n"
     ]
    }
   ],
   "source": [
    "print(sum(users.age > 122))\n",
    "print(sum(users.age < 18))"
   ]
  },
  {
   "cell_type": "markdown",
   "metadata": {
    "_uuid": "3c74992f47ad94693023f64312541a5fad84b50e"
   },
   "source": [
    "So far, do we have 801 users with [the longest confirmed human lifespan record](https://en.wikipedia.org/wiki/Jeanne_Calment) and 176 little *gangsters* breaking the [Aribnb Eligibility Terms](https://www.airbnb.com/terms)?"
   ]
  },
  {
   "cell_type": "code",
   "execution_count": 10,
   "metadata": {
    "_uuid": "e9ff9b11ff962ffc4eadca0db70f81b4f65656f2"
   },
   "outputs": [
    {
     "data": {
      "text/plain": [
       "count     830.000000\n",
       "mean     2002.620482\n",
       "std        94.201344\n",
       "min       132.000000\n",
       "25%      2014.000000\n",
       "50%      2014.000000\n",
       "75%      2014.000000\n",
       "max      2014.000000\n",
       "Name: age, dtype: float64"
      ]
     },
     "execution_count": 10,
     "metadata": {},
     "output_type": "execute_result"
    }
   ],
   "source": [
    "users[users.age > 122]['age'].describe()"
   ]
  },
  {
   "cell_type": "markdown",
   "metadata": {
    "_uuid": "8b3c4d2dbb945a5eb9ad77208ad6b277576d94b5"
   },
   "source": [
    "It's seems that the weird values are caused by the appearance of 2014. I didn't figured why, but I supose that might be related with a wrong input being added with the new users."
   ]
  },
  {
   "cell_type": "code",
   "execution_count": 11,
   "metadata": {
    "_uuid": "fdfbd0811d7ef876bc229057fab799eeed91077a"
   },
   "outputs": [
    {
     "data": {
      "text/plain": [
       "count    188.000000\n",
       "mean      12.718085\n",
       "std        5.764569\n",
       "min        1.000000\n",
       "25%        5.000000\n",
       "50%       16.000000\n",
       "75%       17.000000\n",
       "max       17.000000\n",
       "Name: age, dtype: float64"
      ]
     },
     "execution_count": 11,
     "metadata": {},
     "output_type": "execute_result"
    }
   ],
   "source": [
    "users[users.age < 18]['age'].describe()"
   ]
  },
  {
   "cell_type": "markdown",
   "metadata": {
    "_uuid": "637d89dbbab749be6fb5890a63921b7617dcc8e0"
   },
   "source": [
    "The young users seems to be under an acceptable range being the 50% of those users above 16 years old. \n",
    "We will need to hande the outliers. The simple thing that came to my mind it's to set an acceptance range and put those out of it to NaN."
   ]
  },
  {
   "cell_type": "code",
   "execution_count": 12,
   "metadata": {
    "_uuid": "041b348822d6c4a21364f90912fc6993f5e7368c"
   },
   "outputs": [],
   "source": [
    "users.loc[users.age > 95, 'age'] = np.nan\n",
    "users.loc[users.age < 13, 'age'] = np.nan"
   ]
  },
  {
   "cell_type": "markdown",
   "metadata": {
    "_uuid": "091dac344fb72beb350158d4a28c06a61c55510b"
   },
   "source": [
    "### Data Types"
   ]
  },
  {
   "cell_type": "markdown",
   "metadata": {
    "_uuid": "ca4ab899546f7549f94baf1112a25dab08612a7c"
   },
   "source": [
    "Let's treat each feature as what they are. This means we need to transform into categorical those features that we treas as categories and the same with the dates:"
   ]
  },
  {
   "cell_type": "code",
   "execution_count": 13,
   "metadata": {
    "_uuid": "114c74a207275fa035901fc2f05148921233a17f"
   },
   "outputs": [],
   "source": [
    "categorical_features = [\n",
    "    'affiliate_channel',\n",
    "    'affiliate_provider',\n",
    "    'country_destination',\n",
    "    'first_affiliate_tracked',\n",
    "    'first_browser',\n",
    "    'first_device_type',\n",
    "    'gender',\n",
    "    'language',\n",
    "    'signup_app',\n",
    "    'signup_method'\n",
    "]\n",
    "\n",
    "for categorical_feature in categorical_features:\n",
    "    users[categorical_feature] = users[categorical_feature].astype('category')"
   ]
  },
  {
   "cell_type": "code",
   "execution_count": 14,
   "metadata": {
    "_uuid": "d86a73330bb85b7d36106e9c1b8beb2c4ab56645"
   },
   "outputs": [],
   "source": [
    "users['date_account_created'] = pd.to_datetime(users['date_account_created'])\n",
    "users['date_first_booking'] = pd.to_datetime(users['date_first_booking'])\n",
    "users['date_first_active'] = pd.to_datetime((users.timestamp_first_active // 1000000), format='%Y%m%d')"
   ]
  },
  {
   "cell_type": "markdown",
   "metadata": {
    "_uuid": "de6a53b18c2b2927fc6c78373d552248170cab5b"
   },
   "source": [
    "### Visualizing the Data"
   ]
  },
  {
   "cell_type": "markdown",
   "metadata": {
    "_uuid": "898724647863410696646bc3a1bb2b93b4e8fa9b"
   },
   "source": [
    "Usually, looking at tables, percentiles, means, and other several measures at this state is rarely useful unless you know very well your data.\n",
    "\n",
    "For me, it's usually better to visualize the data in some way. Visualization makes me see the outliers and errors immediately!"
   ]
  },
  {
   "cell_type": "markdown",
   "metadata": {
    "_uuid": "b417e51a8817d440c699979af1f2c8ad18c5a574"
   },
   "source": [
    "#### Gender"
   ]
  },
  {
   "cell_type": "code",
   "execution_count": 15,
   "metadata": {
    "_uuid": "e394f626f5fdad39d30bb1e8172c7e04379637d5"
   },
   "outputs": [
    {
     "data": {
      "image/png": "[encoded data removed]",
      "text/plain": [
       "<matplotlib.figure.Figure at 0x2141f357908>"
      ]
     },
     "metadata": {
      "needs_background": "light"
     },
     "output_type": "display_data"
    }
   ],
   "source": [
    "users.gender.value_counts(dropna=False).plot(kind='bar', color='#FD5C64', rot=0)\n",
    "plt.xlabel('Gender')\n",
    "sns.despine()"
   ]
  },
  {
   "cell_type": "markdown",
   "metadata": {
    "_uuid": "16df27fce438fe314bea67f8ddf4286ed100cf50"
   },
   "source": [
    "As we've seen before at this plot we can see the ammount of missing data in perspective. Also, notice that there is a slight difference between user gender.\n",
    "\n"
   ]
  },
  {
   "cell_type": "markdown",
   "metadata": {
    "_uuid": "b06ee12d434262faf8b195bc2f18f8b512a96778"
   },
   "source": [
    "#### Age"
   ]
  },
  {
   "cell_type": "markdown",
   "metadata": {
    "_uuid": "4cc2a5c9fc0e90d6746ba4db12ea81e922093213"
   },
   "source": [
    "Now that I know there is no difference between male and female reservations at first sight I'll dig into the age."
   ]
  },
  {
   "cell_type": "code",
   "execution_count": 16,
   "metadata": {
    "_uuid": "b0a09382942c9c17c6662ee731e807ec734bba6d"
   },
   "outputs": [
    {
     "data": {
      "image/png": "[encoded data removed]",
      "text/plain": [
       "<matplotlib.figure.Figure at 0x2141f0b1160>"
      ]
     },
     "metadata": {
      "needs_background": "light"
     },
     "output_type": "display_data"
    }
   ],
   "source": [
    "sns.distplot(users.age.dropna(), color='#FD5C64')\n",
    "plt.xlabel('Age')\n",
    "sns.despine()"
   ]
  },
  {
   "cell_type": "markdown",
   "metadata": {
    "_uuid": "12667532fa27d54e87aa51a2475180bf633adbf9"
   },
   "source": [
    "As expected, the common age to travel is between 25 and 40. Let's see if, for example, older people travel in a different way. Let's pick an arbitrary age to split into two groups. Maybe 45?"
   ]
  },
  {
   "cell_type": "code",
   "execution_count": 17,
   "metadata": {
    "_uuid": "321166faf74f33f598d14f0f5f094d7742d7cf4c"
   },
   "outputs": [
    {
     "data": {
      "image/png": "[encoded data removed]",
      "text/plain": [
       "<matplotlib.figure.Figure at 0x2141f1df5f8>"
      ]
     },
     "metadata": {
      "needs_background": "light"
     },
     "output_type": "display_data"
    }
   ],
   "source": [
    "age = 45\n",
    "\n",
    "younger = sum(users.loc[users['age'] < age, 'country_destination'].value_counts())\n",
    "older = sum(users.loc[users['age'] > age, 'country_destination'].value_counts())\n",
    "\n",
    "younger_destinations = users.loc[users['age'] < age, 'country_destination'].value_counts() / younger * 100\n",
    "older_destinations = users.loc[users['age'] > age, 'country_destination'].value_counts() / older * 100\n",
    "\n",
    "younger_destinations.plot(kind='bar', width=.5, color='#63EA55', position=0, label='Youngers', rot=0)\n",
    "older_destinations.plot(kind='bar', width=.5, color='#4DD3C9', position=1, label='Olders', rot=0)\n",
    "\n",
    "plt.legend()\n",
    "plt.xlabel('Destination Country')\n",
    "plt.ylabel('Percentage')\n",
    "\n",
    "sns.despine()\n",
    "plt.show()"
   ]
  },
  {
   "cell_type": "markdown",
   "metadata": {
    "_uuid": "8d5f119396d0996f8adb412f05e8c1fbad92266c"
   },
   "source": [
    "#### Dates"
   ]
  },
  {
   "cell_type": "markdown",
   "metadata": {
    "_uuid": "09668bbf2e05e6297dc06505b66b5fedb13ac2c6"
   },
   "source": [
    "To see the dates of our users and the timespan of them, let's plot the number of accounts created by time:"
   ]
  },
  {
   "cell_type": "code",
   "execution_count": 18,
   "metadata": {
    "_uuid": "127c9d43400298e7e0b4d43a7e822ed7e614f56d"
   },
   "outputs": [
    {
     "data": {
      "text/plain": [
       "<matplotlib.axes._subplots.AxesSubplot at 0x2141f1b2550>"
      ]
     },
     "execution_count": 18,
     "metadata": {},
     "output_type": "execute_result"
    },
    {
     "data": {
      "image/png": "[encoded data removed]",
      "text/plain": [
       "<matplotlib.figure.Figure at 0x21428023940>"
      ]
     },
     "metadata": {},
     "output_type": "display_data"
    }
   ],
   "source": [
    "sns.set_style(\"whitegrid\", {'axes.edgecolor': '0'})\n",
    "sns.set_context(\"poster\", font_scale=1.1)\n",
    "users.date_account_created.value_counts().plot(kind='line', linewidth=1.2, color='#FD5C64')"
   ]
  },
  {
   "cell_type": "markdown",
   "metadata": {
    "_uuid": "67e3ccce04569cb865a51511302754161c06e961"
   },
   "source": [
    "It's appreciable how fast Airbnb has grown over the last 3 years. Does this correlate with the date when the user was active for the first time? It should be very similar, so doing this is a way to check the data!"
   ]
  },
  {
   "cell_type": "code",
   "execution_count": 19,
   "metadata": {
    "_uuid": "3a9bfed3bd6e5ec0571a257b9df99797043c17fb"
   },
   "outputs": [
    {
     "data": {
      "text/plain": [
       "<matplotlib.axes._subplots.AxesSubplot at 0x2141f0b1dd8>"
      ]
     },
     "execution_count": 19,
     "metadata": {},
     "output_type": "execute_result"
    },
    {
     "data": {
      "image/png": "[encoded data removed]",
      "text/plain": [
       "<matplotlib.figure.Figure at 0x2141f0de470>"
      ]
     },
     "metadata": {},
     "output_type": "display_data"
    }
   ],
   "source": [
    "users.date_first_active.value_counts().plot(kind='line', linewidth=1.2, color='#FD5C64')"
   ]
  },
  {
   "cell_type": "markdown",
   "metadata": {
    "_uuid": "6d7257105670a95bcf69ea98a3e2bb2d574ea6f9"
   },
   "source": [
    "We can se that's almost the same as `date_account_created`, and also, notice the small peaks. We can, either smooth the graph or dig into those peaks. Let's dig in:"
   ]
  },
  {
   "cell_type": "code",
   "execution_count": 20,
   "metadata": {
    "_uuid": "9168613b7763ce252ea452fefed0ff84626246a6"
   },
   "outputs": [
    {
     "data": {
      "image/png": "[encoded data removed]",
      "text/plain": [
       "<matplotlib.figure.Figure at 0x2141fe27f60>"
      ]
     },
     "metadata": {},
     "output_type": "display_data"
    }
   ],
   "source": [
    "users_2013 = users[users['date_first_active'] > pd.to_datetime(20130101, format='%Y%m%d')]\n",
    "users_2013 = users_2013[users_2013['date_first_active'] < pd.to_datetime(20140101, format='%Y%m%d')]\n",
    "users_2013.date_first_active.value_counts().plot(kind='line', linewidth=2, color='#FD5C64')\n",
    "plt.show()"
   ]
  },
  {
   "cell_type": "markdown",
   "metadata": {
    "_uuid": "12563235c180e07ecc954b62bf75ce1196554c29"
   },
   "source": [
    "At first sight we can see a small pattern, there are some peaks at the same distance. Looking more closely:"
   ]
  },
  {
   "cell_type": "code",
   "execution_count": 21,
   "metadata": {
    "_uuid": "5d63a90c5f71921ac7c5bc25f133acfbc8e20265"
   },
   "outputs": [],
   "source": [
    "weekdays = []\n",
    "for date in users.date_account_created:\n",
    "    weekdays.append(date.weekday())\n",
    "weekdays = pd.Series(weekdays)"
   ]
  },
  {
   "cell_type": "code",
   "execution_count": 22,
   "metadata": {
    "_uuid": "6cdd4de3bb9cc5df6d50c43c9061b5d465c20e54",
    "scrolled": true
   },
   "outputs": [
    {
     "data": {
      "image/png": "[encoded data removed]",
      "text/plain": [
       "<matplotlib.figure.Figure at 0x2141fe69ba8>"
      ]
     },
     "metadata": {},
     "output_type": "display_data"
    }
   ],
   "source": [
    "sns.barplot(x = weekdays.value_counts().index, y=weekdays.value_counts().values, order=range(0,7))\n",
    "plt.xlabel('Week Day')\n",
    "sns.despine()"
   ]
  },
  {
   "cell_type": "markdown",
   "metadata": {
    "_uuid": "d75bd64ad22f4d276482c24bc68841acdf2958c5"
   },
   "source": [
    "The local minimums where the Sundays(where the people use less *the Internet*), and it's usually to hit a maximum at Tuesdays!\n",
    "\n"
   ]
  },
  {
   "cell_type": "markdown",
   "metadata": {
    "_uuid": "e928b1bf4a0117ac4f05d27e1d582a0cdfb2767b"
   },
   "source": [
    "I'll make more plots about the devices and singup methods/flow later this week. I hope you all have enjoyed this little analysis that despine not being very rellevant to make the predictions, it is to understand the problem and the user behaviour. \n",
    "\n",
    "Again, criticism is welcomed!\n",
    "\n",
    "                                                                                David Gasquez"
   ]
  },
  {
   "cell_type": "code",
   "execution_count": 37,
   "metadata": {},
   "outputs": [
    {
     "data": {
      "text/plain": [
       "<seaborn.axisgrid.JointGrid at 0x214238c57b8>"
      ]
     },
     "execution_count": 37,
     "metadata": {},
     "output_type": "execute_result"
    },
    {
     "data": {
      "image/png": "[encoded data removed]",
      "text/plain": [
       "<matplotlib.figure.Figure at 0x214238c5fd0>"
      ]
     },
     "metadata": {},
     "output_type": "display_data"
    }
   ],
   "source": [
    "sns.set(style=\"ticks\")\n",
    "\n",
    "rs = np.random.RandomState(1)\n",
    "x = rs.gamma(2, size=1000)\n",
    "y = -.5 * x + rs.normal(size=1000)\n",
    "\n",
    "sns.jointplot(x, y, kind=\"hex\", color=\"#4CB391\")"
   ]
  },
  {
   "cell_type": "code",
   "execution_count": 31,
   "metadata": {},
   "outputs": [
    {
     "data": {
      "text/plain": [
       "[direct, google, other, craigslist, facebook, ..., wayn, naver, baidu, yandex, daum]\n",
       "Length: 18\n",
       "Categories (18, object): [direct, google, other, craigslist, ..., naver, baidu, yandex, daum]"
      ]
     },
     "execution_count": 31,
     "metadata": {},
     "output_type": "execute_result"
    }
   ],
   "source": [
    "users[\"affiliate_provider\"].unique()"
   ]
  },
  {
   "cell_type": "code",
   "execution_count": 109,
   "metadata": {},
   "outputs": [
    {
     "data": {
      "text/plain": [
       "<seaborn.axisgrid.FacetGrid at 0x2142f87ce48>"
      ]
     },
     "execution_count": 109,
     "metadata": {},
     "output_type": "execute_result"
    },
    {
     "data": {
      "image/png": "[encoded data removed]",
      "text/plain": [
       "<matplotlib.figure.Figure at 0x2142f87c908>"
      ]
     },
     "metadata": {},
     "output_type": "display_data"
    }
   ],
   "source": [
    "sns.catplot(y = \"affiliate_provider\", x = \"age\", data=users, kind=\"boxen\")"
   ]
  },
  {
   "cell_type": "code",
   "execution_count": 43,
   "metadata": {},
   "outputs": [
    {
     "data": {
      "text/html": [
       "<div>\n",
       "<style scoped>\n",
       "    .dataframe tbody tr th:only-of-type {\n",
       "        vertical-align: middle;\n",
       "    }\n",
       "\n",
       "    .dataframe tbody tr th {\n",
       "        vertical-align: top;\n",
       "    }\n",
       "\n",
       "    .dataframe thead th {\n",
       "        text-align: right;\n",
       "    }\n",
       "</style>\n",
       "<table border=\"1\" class=\"dataframe\">\n",
       "  <thead>\n",
       "    <tr style=\"text-align: right;\">\n",
       "      <th></th>\n",
       "      <th>affiliate_channel</th>\n",
       "      <th>affiliate_provider</th>\n",
       "      <th>age</th>\n",
       "      <th>country_destination</th>\n",
       "      <th>date_account_created</th>\n",
       "      <th>date_first_booking</th>\n",
       "      <th>first_affiliate_tracked</th>\n",
       "      <th>first_browser</th>\n",
       "      <th>first_device_type</th>\n",
       "      <th>gender</th>\n",
       "      <th>language</th>\n",
       "      <th>signup_app</th>\n",
       "      <th>signup_flow</th>\n",
       "      <th>signup_method</th>\n",
       "      <th>timestamp_first_active</th>\n",
       "      <th>date_first_active</th>\n",
       "    </tr>\n",
       "  </thead>\n",
       "  <tbody>\n",
       "    <tr>\n",
       "      <th>0</th>\n",
       "      <td>direct</td>\n",
       "      <td>direct</td>\n",
       "      <td>NaN</td>\n",
       "      <td>NDF</td>\n",
       "      <td>2010-06-28</td>\n",
       "      <td>NaT</td>\n",
       "      <td>untracked</td>\n",
       "      <td>Chrome</td>\n",
       "      <td>Mac Desktop</td>\n",
       "      <td>NaN</td>\n",
       "      <td>en</td>\n",
       "      <td>Web</td>\n",
       "      <td>0</td>\n",
       "      <td>facebook</td>\n",
       "      <td>20090319043255</td>\n",
       "      <td>2009-03-19</td>\n",
       "    </tr>\n",
       "    <tr>\n",
       "      <th>1</th>\n",
       "      <td>seo</td>\n",
       "      <td>google</td>\n",
       "      <td>38.0</td>\n",
       "      <td>NDF</td>\n",
       "      <td>2011-05-25</td>\n",
       "      <td>NaT</td>\n",
       "      <td>untracked</td>\n",
       "      <td>Chrome</td>\n",
       "      <td>Mac Desktop</td>\n",
       "      <td>MALE</td>\n",
       "      <td>en</td>\n",
       "      <td>Web</td>\n",
       "      <td>0</td>\n",
       "      <td>facebook</td>\n",
       "      <td>20090523174809</td>\n",
       "      <td>2009-05-23</td>\n",
       "    </tr>\n",
       "    <tr>\n",
       "      <th>2</th>\n",
       "      <td>direct</td>\n",
       "      <td>direct</td>\n",
       "      <td>56.0</td>\n",
       "      <td>US</td>\n",
       "      <td>2010-09-28</td>\n",
       "      <td>2010-08-02</td>\n",
       "      <td>untracked</td>\n",
       "      <td>IE</td>\n",
       "      <td>Windows Desktop</td>\n",
       "      <td>FEMALE</td>\n",
       "      <td>en</td>\n",
       "      <td>Web</td>\n",
       "      <td>3</td>\n",
       "      <td>basic</td>\n",
       "      <td>20090609231247</td>\n",
       "      <td>2009-06-09</td>\n",
       "    </tr>\n",
       "    <tr>\n",
       "      <th>3</th>\n",
       "      <td>direct</td>\n",
       "      <td>direct</td>\n",
       "      <td>42.0</td>\n",
       "      <td>other</td>\n",
       "      <td>2011-12-05</td>\n",
       "      <td>2012-09-08</td>\n",
       "      <td>untracked</td>\n",
       "      <td>Firefox</td>\n",
       "      <td>Mac Desktop</td>\n",
       "      <td>FEMALE</td>\n",
       "      <td>en</td>\n",
       "      <td>Web</td>\n",
       "      <td>0</td>\n",
       "      <td>facebook</td>\n",
       "      <td>20091031060129</td>\n",
       "      <td>2009-10-31</td>\n",
       "    </tr>\n",
       "    <tr>\n",
       "      <th>4</th>\n",
       "      <td>direct</td>\n",
       "      <td>direct</td>\n",
       "      <td>41.0</td>\n",
       "      <td>US</td>\n",
       "      <td>2010-09-14</td>\n",
       "      <td>2010-02-18</td>\n",
       "      <td>untracked</td>\n",
       "      <td>Chrome</td>\n",
       "      <td>Mac Desktop</td>\n",
       "      <td>NaN</td>\n",
       "      <td>en</td>\n",
       "      <td>Web</td>\n",
       "      <td>0</td>\n",
       "      <td>basic</td>\n",
       "      <td>20091208061105</td>\n",
       "      <td>2009-12-08</td>\n",
       "    </tr>\n",
       "    <tr>\n",
       "      <th>5</th>\n",
       "      <td>other</td>\n",
       "      <td>other</td>\n",
       "      <td>NaN</td>\n",
       "      <td>US</td>\n",
       "      <td>2010-01-01</td>\n",
       "      <td>2010-01-02</td>\n",
       "      <td>omg</td>\n",
       "      <td>Chrome</td>\n",
       "      <td>Mac Desktop</td>\n",
       "      <td>NaN</td>\n",
       "      <td>en</td>\n",
       "      <td>Web</td>\n",
       "      <td>0</td>\n",
       "      <td>basic</td>\n",
       "      <td>20100101215619</td>\n",
       "      <td>2010-01-01</td>\n",
       "    </tr>\n",
       "    <tr>\n",
       "      <th>6</th>\n",
       "      <td>other</td>\n",
       "      <td>craigslist</td>\n",
       "      <td>46.0</td>\n",
       "      <td>US</td>\n",
       "      <td>2010-01-02</td>\n",
       "      <td>2010-01-05</td>\n",
       "      <td>untracked</td>\n",
       "      <td>Safari</td>\n",
       "      <td>Mac Desktop</td>\n",
       "      <td>FEMALE</td>\n",
       "      <td>en</td>\n",
       "      <td>Web</td>\n",
       "      <td>0</td>\n",
       "      <td>basic</td>\n",
       "      <td>20100102012558</td>\n",
       "      <td>2010-01-02</td>\n",
       "    </tr>\n",
       "    <tr>\n",
       "      <th>7</th>\n",
       "      <td>direct</td>\n",
       "      <td>direct</td>\n",
       "      <td>47.0</td>\n",
       "      <td>US</td>\n",
       "      <td>2010-01-03</td>\n",
       "      <td>2010-01-13</td>\n",
       "      <td>omg</td>\n",
       "      <td>Safari</td>\n",
       "      <td>Mac Desktop</td>\n",
       "      <td>FEMALE</td>\n",
       "      <td>en</td>\n",
       "      <td>Web</td>\n",
       "      <td>0</td>\n",
       "      <td>basic</td>\n",
       "      <td>20100103191905</td>\n",
       "      <td>2010-01-03</td>\n",
       "    </tr>\n",
       "    <tr>\n",
       "      <th>8</th>\n",
       "      <td>other</td>\n",
       "      <td>craigslist</td>\n",
       "      <td>50.0</td>\n",
       "      <td>US</td>\n",
       "      <td>2010-01-04</td>\n",
       "      <td>2010-07-29</td>\n",
       "      <td>untracked</td>\n",
       "      <td>Safari</td>\n",
       "      <td>Mac Desktop</td>\n",
       "      <td>FEMALE</td>\n",
       "      <td>en</td>\n",
       "      <td>Web</td>\n",
       "      <td>0</td>\n",
       "      <td>basic</td>\n",
       "      <td>20100104004211</td>\n",
       "      <td>2010-01-04</td>\n",
       "    </tr>\n",
       "    <tr>\n",
       "      <th>9</th>\n",
       "      <td>other</td>\n",
       "      <td>craigslist</td>\n",
       "      <td>46.0</td>\n",
       "      <td>US</td>\n",
       "      <td>2010-01-04</td>\n",
       "      <td>2010-01-04</td>\n",
       "      <td>omg</td>\n",
       "      <td>Firefox</td>\n",
       "      <td>Mac Desktop</td>\n",
       "      <td>NaN</td>\n",
       "      <td>en</td>\n",
       "      <td>Web</td>\n",
       "      <td>0</td>\n",
       "      <td>basic</td>\n",
       "      <td>20100104023758</td>\n",
       "      <td>2010-01-04</td>\n",
       "    </tr>\n",
       "    <tr>\n",
       "      <th>10</th>\n",
       "      <td>other</td>\n",
       "      <td>craigslist</td>\n",
       "      <td>36.0</td>\n",
       "      <td>US</td>\n",
       "      <td>2010-01-04</td>\n",
       "      <td>2010-01-06</td>\n",
       "      <td>untracked</td>\n",
       "      <td>Firefox</td>\n",
       "      <td>Mac Desktop</td>\n",
       "      <td>FEMALE</td>\n",
       "      <td>en</td>\n",
       "      <td>Web</td>\n",
       "      <td>0</td>\n",
       "      <td>basic</td>\n",
       "      <td>20100104194251</td>\n",
       "      <td>2010-01-04</td>\n",
       "    </tr>\n",
       "    <tr>\n",
       "      <th>11</th>\n",
       "      <td>other</td>\n",
       "      <td>craigslist</td>\n",
       "      <td>47.0</td>\n",
       "      <td>NDF</td>\n",
       "      <td>2010-01-05</td>\n",
       "      <td>NaT</td>\n",
       "      <td>untracked</td>\n",
       "      <td>-unknown-</td>\n",
       "      <td>iPhone</td>\n",
       "      <td>FEMALE</td>\n",
       "      <td>en</td>\n",
       "      <td>Web</td>\n",
       "      <td>0</td>\n",
       "      <td>basic</td>\n",
       "      <td>20100105051812</td>\n",
       "      <td>2010-01-05</td>\n",
       "    </tr>\n",
       "    <tr>\n",
       "      <th>12</th>\n",
       "      <td>direct</td>\n",
       "      <td>direct</td>\n",
       "      <td>NaN</td>\n",
       "      <td>FR</td>\n",
       "      <td>2010-01-05</td>\n",
       "      <td>2010-01-18</td>\n",
       "      <td>NaN</td>\n",
       "      <td>-unknown-</td>\n",
       "      <td>Other/Unknown</td>\n",
       "      <td>NaN</td>\n",
       "      <td>en</td>\n",
       "      <td>Web</td>\n",
       "      <td>0</td>\n",
       "      <td>basic</td>\n",
       "      <td>20100105060859</td>\n",
       "      <td>2010-01-05</td>\n",
       "    </tr>\n",
       "    <tr>\n",
       "      <th>13</th>\n",
       "      <td>other</td>\n",
       "      <td>craigslist</td>\n",
       "      <td>37.0</td>\n",
       "      <td>NDF</td>\n",
       "      <td>2010-01-05</td>\n",
       "      <td>NaT</td>\n",
       "      <td>linked</td>\n",
       "      <td>Firefox</td>\n",
       "      <td>Mac Desktop</td>\n",
       "      <td>FEMALE</td>\n",
       "      <td>en</td>\n",
       "      <td>Web</td>\n",
       "      <td>0</td>\n",
       "      <td>basic</td>\n",
       "      <td>20100105083259</td>\n",
       "      <td>2010-01-05</td>\n",
       "    </tr>\n",
       "    <tr>\n",
       "      <th>14</th>\n",
       "      <td>other</td>\n",
       "      <td>craigslist</td>\n",
       "      <td>36.0</td>\n",
       "      <td>NDF</td>\n",
       "      <td>2010-01-07</td>\n",
       "      <td>NaT</td>\n",
       "      <td>untracked</td>\n",
       "      <td>Mobile Safari</td>\n",
       "      <td>iPhone</td>\n",
       "      <td>FEMALE</td>\n",
       "      <td>en</td>\n",
       "      <td>Web</td>\n",
       "      <td>0</td>\n",
       "      <td>basic</td>\n",
       "      <td>20100107055820</td>\n",
       "      <td>2010-01-07</td>\n",
       "    </tr>\n",
       "    <tr>\n",
       "      <th>15</th>\n",
       "      <td>direct</td>\n",
       "      <td>direct</td>\n",
       "      <td>33.0</td>\n",
       "      <td>CA</td>\n",
       "      <td>2010-01-07</td>\n",
       "      <td>2010-01-08</td>\n",
       "      <td>untracked</td>\n",
       "      <td>Chrome</td>\n",
       "      <td>Windows Desktop</td>\n",
       "      <td>FEMALE</td>\n",
       "      <td>en</td>\n",
       "      <td>Web</td>\n",
       "      <td>0</td>\n",
       "      <td>basic</td>\n",
       "      <td>20100107204555</td>\n",
       "      <td>2010-01-07</td>\n",
       "    </tr>\n",
       "    <tr>\n",
       "      <th>16</th>\n",
       "      <td>other</td>\n",
       "      <td>craigslist</td>\n",
       "      <td>NaN</td>\n",
       "      <td>NDF</td>\n",
       "      <td>2010-01-07</td>\n",
       "      <td>NaT</td>\n",
       "      <td>NaN</td>\n",
       "      <td>-unknown-</td>\n",
       "      <td>Other/Unknown</td>\n",
       "      <td>NaN</td>\n",
       "      <td>en</td>\n",
       "      <td>Web</td>\n",
       "      <td>0</td>\n",
       "      <td>basic</td>\n",
       "      <td>20100107215125</td>\n",
       "      <td>2010-01-07</td>\n",
       "    </tr>\n",
       "    <tr>\n",
       "      <th>17</th>\n",
       "      <td>other</td>\n",
       "      <td>craigslist</td>\n",
       "      <td>31.0</td>\n",
       "      <td>US</td>\n",
       "      <td>2010-01-07</td>\n",
       "      <td>2010-01-09</td>\n",
       "      <td>NaN</td>\n",
       "      <td>-unknown-</td>\n",
       "      <td>Other/Unknown</td>\n",
       "      <td>NaN</td>\n",
       "      <td>en</td>\n",
       "      <td>Web</td>\n",
       "      <td>0</td>\n",
       "      <td>basic</td>\n",
       "      <td>20100107224625</td>\n",
       "      <td>2010-01-07</td>\n",
       "    </tr>\n",
       "    <tr>\n",
       "      <th>18</th>\n",
       "      <td>seo</td>\n",
       "      <td>facebook</td>\n",
       "      <td>NaN</td>\n",
       "      <td>NDF</td>\n",
       "      <td>2010-01-08</td>\n",
       "      <td>NaT</td>\n",
       "      <td>NaN</td>\n",
       "      <td>-unknown-</td>\n",
       "      <td>Other/Unknown</td>\n",
       "      <td>NaN</td>\n",
       "      <td>en</td>\n",
       "      <td>Web</td>\n",
       "      <td>0</td>\n",
       "      <td>basic</td>\n",
       "      <td>20100108015641</td>\n",
       "      <td>2010-01-08</td>\n",
       "    </tr>\n",
       "    <tr>\n",
       "      <th>19</th>\n",
       "      <td>direct</td>\n",
       "      <td>direct</td>\n",
       "      <td>29.0</td>\n",
       "      <td>FR</td>\n",
       "      <td>2010-01-10</td>\n",
       "      <td>2010-01-10</td>\n",
       "      <td>untracked</td>\n",
       "      <td>Chrome</td>\n",
       "      <td>Mac Desktop</td>\n",
       "      <td>FEMALE</td>\n",
       "      <td>en</td>\n",
       "      <td>Web</td>\n",
       "      <td>0</td>\n",
       "      <td>basic</td>\n",
       "      <td>20100110010817</td>\n",
       "      <td>2010-01-10</td>\n",
       "    </tr>\n",
       "    <tr>\n",
       "      <th>20</th>\n",
       "      <td>direct</td>\n",
       "      <td>direct</td>\n",
       "      <td>NaN</td>\n",
       "      <td>US</td>\n",
       "      <td>2010-01-10</td>\n",
       "      <td>2010-01-18</td>\n",
       "      <td>NaN</td>\n",
       "      <td>-unknown-</td>\n",
       "      <td>Other/Unknown</td>\n",
       "      <td>NaN</td>\n",
       "      <td>en</td>\n",
       "      <td>Web</td>\n",
       "      <td>0</td>\n",
       "      <td>basic</td>\n",
       "      <td>20100110152120</td>\n",
       "      <td>2010-01-10</td>\n",
       "    </tr>\n",
       "    <tr>\n",
       "      <th>21</th>\n",
       "      <td>direct</td>\n",
       "      <td>direct</td>\n",
       "      <td>30.0</td>\n",
       "      <td>US</td>\n",
       "      <td>2010-01-10</td>\n",
       "      <td>2010-01-11</td>\n",
       "      <td>linked</td>\n",
       "      <td>Chrome</td>\n",
       "      <td>Mac Desktop</td>\n",
       "      <td>MALE</td>\n",
       "      <td>en</td>\n",
       "      <td>Web</td>\n",
       "      <td>0</td>\n",
       "      <td>basic</td>\n",
       "      <td>20100110220941</td>\n",
       "      <td>2010-01-10</td>\n",
       "    </tr>\n",
       "    <tr>\n",
       "      <th>22</th>\n",
       "      <td>seo</td>\n",
       "      <td>google</td>\n",
       "      <td>40.0</td>\n",
       "      <td>US</td>\n",
       "      <td>2010-01-11</td>\n",
       "      <td>2010-01-11</td>\n",
       "      <td>untracked</td>\n",
       "      <td>-unknown-</td>\n",
       "      <td>iPhone</td>\n",
       "      <td>NaN</td>\n",
       "      <td>en</td>\n",
       "      <td>Web</td>\n",
       "      <td>0</td>\n",
       "      <td>basic</td>\n",
       "      <td>20100111031438</td>\n",
       "      <td>2010-01-11</td>\n",
       "    </tr>\n",
       "    <tr>\n",
       "      <th>23</th>\n",
       "      <td>other</td>\n",
       "      <td>craigslist</td>\n",
       "      <td>NaN</td>\n",
       "      <td>NDF</td>\n",
       "      <td>2010-01-11</td>\n",
       "      <td>NaT</td>\n",
       "      <td>untracked</td>\n",
       "      <td>Safari</td>\n",
       "      <td>Mac Desktop</td>\n",
       "      <td>NaN</td>\n",
       "      <td>en</td>\n",
       "      <td>Web</td>\n",
       "      <td>0</td>\n",
       "      <td>basic</td>\n",
       "      <td>20100111224015</td>\n",
       "      <td>2010-01-11</td>\n",
       "    </tr>\n",
       "    <tr>\n",
       "      <th>24</th>\n",
       "      <td>seo</td>\n",
       "      <td>google</td>\n",
       "      <td>40.0</td>\n",
       "      <td>NDF</td>\n",
       "      <td>2010-01-11</td>\n",
       "      <td>NaT</td>\n",
       "      <td>untracked</td>\n",
       "      <td>Firefox</td>\n",
       "      <td>Mac Desktop</td>\n",
       "      <td>FEMALE</td>\n",
       "      <td>en</td>\n",
       "      <td>Web</td>\n",
       "      <td>0</td>\n",
       "      <td>basic</td>\n",
       "      <td>20100111230808</td>\n",
       "      <td>2010-01-11</td>\n",
       "    </tr>\n",
       "    <tr>\n",
       "      <th>25</th>\n",
       "      <td>other</td>\n",
       "      <td>craigslist</td>\n",
       "      <td>26.0</td>\n",
       "      <td>FR</td>\n",
       "      <td>2010-01-12</td>\n",
       "      <td>2010-01-15</td>\n",
       "      <td>untracked</td>\n",
       "      <td>Chrome</td>\n",
       "      <td>Mac Desktop</td>\n",
       "      <td>FEMALE</td>\n",
       "      <td>en</td>\n",
       "      <td>Web</td>\n",
       "      <td>0</td>\n",
       "      <td>basic</td>\n",
       "      <td>20100112131444</td>\n",
       "      <td>2010-01-12</td>\n",
       "    </tr>\n",
       "    <tr>\n",
       "      <th>26</th>\n",
       "      <td>other</td>\n",
       "      <td>other</td>\n",
       "      <td>NaN</td>\n",
       "      <td>NDF</td>\n",
       "      <td>2010-01-12</td>\n",
       "      <td>NaT</td>\n",
       "      <td>untracked</td>\n",
       "      <td>-unknown-</td>\n",
       "      <td>Other/Unknown</td>\n",
       "      <td>NaN</td>\n",
       "      <td>en</td>\n",
       "      <td>Web</td>\n",
       "      <td>0</td>\n",
       "      <td>basic</td>\n",
       "      <td>20100112155420</td>\n",
       "      <td>2010-01-12</td>\n",
       "    </tr>\n",
       "    <tr>\n",
       "      <th>27</th>\n",
       "      <td>other</td>\n",
       "      <td>craigslist</td>\n",
       "      <td>32.0</td>\n",
       "      <td>US</td>\n",
       "      <td>2010-01-12</td>\n",
       "      <td>2010-01-22</td>\n",
       "      <td>untracked</td>\n",
       "      <td>Chrome</td>\n",
       "      <td>Desktop (Other)</td>\n",
       "      <td>FEMALE</td>\n",
       "      <td>en</td>\n",
       "      <td>Web</td>\n",
       "      <td>0</td>\n",
       "      <td>basic</td>\n",
       "      <td>20100112205949</td>\n",
       "      <td>2010-01-12</td>\n",
       "    </tr>\n",
       "    <tr>\n",
       "      <th>28</th>\n",
       "      <td>direct</td>\n",
       "      <td>direct</td>\n",
       "      <td>35.0</td>\n",
       "      <td>FR</td>\n",
       "      <td>2010-01-13</td>\n",
       "      <td>2010-01-13</td>\n",
       "      <td>NaN</td>\n",
       "      <td>-unknown-</td>\n",
       "      <td>Other/Unknown</td>\n",
       "      <td>NaN</td>\n",
       "      <td>en</td>\n",
       "      <td>Web</td>\n",
       "      <td>0</td>\n",
       "      <td>basic</td>\n",
       "      <td>20100113044650</td>\n",
       "      <td>2010-01-13</td>\n",
       "    </tr>\n",
       "    <tr>\n",
       "      <th>29</th>\n",
       "      <td>direct</td>\n",
       "      <td>direct</td>\n",
       "      <td>37.0</td>\n",
       "      <td>US</td>\n",
       "      <td>2010-01-13</td>\n",
       "      <td>2010-01-19</td>\n",
       "      <td>untracked</td>\n",
       "      <td>-unknown-</td>\n",
       "      <td>Android Tablet</td>\n",
       "      <td>NaN</td>\n",
       "      <td>en</td>\n",
       "      <td>Web</td>\n",
       "      <td>0</td>\n",
       "      <td>basic</td>\n",
       "      <td>20100113064333</td>\n",
       "      <td>2010-01-13</td>\n",
       "    </tr>\n",
       "    <tr>\n",
       "      <th>...</th>\n",
       "      <td>...</td>\n",
       "      <td>...</td>\n",
       "      <td>...</td>\n",
       "      <td>...</td>\n",
       "      <td>...</td>\n",
       "      <td>...</td>\n",
       "      <td>...</td>\n",
       "      <td>...</td>\n",
       "      <td>...</td>\n",
       "      <td>...</td>\n",
       "      <td>...</td>\n",
       "      <td>...</td>\n",
       "      <td>...</td>\n",
       "      <td>...</td>\n",
       "      <td>...</td>\n",
       "      <td>...</td>\n",
       "    </tr>\n",
       "    <tr>\n",
       "      <th>275517</th>\n",
       "      <td>direct</td>\n",
       "      <td>direct</td>\n",
       "      <td>NaN</td>\n",
       "      <td>NaN</td>\n",
       "      <td>2014-09-30</td>\n",
       "      <td>NaT</td>\n",
       "      <td>untracked</td>\n",
       "      <td>-unknown-</td>\n",
       "      <td>Android Phone</td>\n",
       "      <td>NaN</td>\n",
       "      <td>en</td>\n",
       "      <td>Android</td>\n",
       "      <td>12</td>\n",
       "      <td>google</td>\n",
       "      <td>20140930231454</td>\n",
       "      <td>2014-09-30</td>\n",
       "    </tr>\n",
       "    <tr>\n",
       "      <th>275518</th>\n",
       "      <td>direct</td>\n",
       "      <td>direct</td>\n",
       "      <td>48.0</td>\n",
       "      <td>NaN</td>\n",
       "      <td>2014-09-30</td>\n",
       "      <td>NaT</td>\n",
       "      <td>untracked</td>\n",
       "      <td>Safari</td>\n",
       "      <td>Mac Desktop</td>\n",
       "      <td>FEMALE</td>\n",
       "      <td>en</td>\n",
       "      <td>Web</td>\n",
       "      <td>0</td>\n",
       "      <td>basic</td>\n",
       "      <td>20140930231518</td>\n",
       "      <td>2014-09-30</td>\n",
       "    </tr>\n",
       "    <tr>\n",
       "      <th>275519</th>\n",
       "      <td>seo</td>\n",
       "      <td>google</td>\n",
       "      <td>NaN</td>\n",
       "      <td>NaN</td>\n",
       "      <td>2014-09-30</td>\n",
       "      <td>NaT</td>\n",
       "      <td>untracked</td>\n",
       "      <td>Firefox</td>\n",
       "      <td>Mac Desktop</td>\n",
       "      <td>NaN</td>\n",
       "      <td>en</td>\n",
       "      <td>Web</td>\n",
       "      <td>0</td>\n",
       "      <td>basic</td>\n",
       "      <td>20140930231952</td>\n",
       "      <td>2014-09-30</td>\n",
       "    </tr>\n",
       "    <tr>\n",
       "      <th>275520</th>\n",
       "      <td>direct</td>\n",
       "      <td>direct</td>\n",
       "      <td>24.0</td>\n",
       "      <td>NaN</td>\n",
       "      <td>2014-09-30</td>\n",
       "      <td>NaT</td>\n",
       "      <td>untracked</td>\n",
       "      <td>-unknown-</td>\n",
       "      <td>iPhone</td>\n",
       "      <td>FEMALE</td>\n",
       "      <td>en</td>\n",
       "      <td>iOS</td>\n",
       "      <td>25</td>\n",
       "      <td>facebook</td>\n",
       "      <td>20140930232126</td>\n",
       "      <td>2014-09-30</td>\n",
       "    </tr>\n",
       "    <tr>\n",
       "      <th>275521</th>\n",
       "      <td>seo</td>\n",
       "      <td>facebook</td>\n",
       "      <td>32.0</td>\n",
       "      <td>NaN</td>\n",
       "      <td>2014-09-30</td>\n",
       "      <td>NaT</td>\n",
       "      <td>untracked</td>\n",
       "      <td>Mobile Safari</td>\n",
       "      <td>iPad</td>\n",
       "      <td>FEMALE</td>\n",
       "      <td>en</td>\n",
       "      <td>Web</td>\n",
       "      <td>0</td>\n",
       "      <td>facebook</td>\n",
       "      <td>20140930232237</td>\n",
       "      <td>2014-09-30</td>\n",
       "    </tr>\n",
       "    <tr>\n",
       "      <th>275522</th>\n",
       "      <td>direct</td>\n",
       "      <td>direct</td>\n",
       "      <td>NaN</td>\n",
       "      <td>NaN</td>\n",
       "      <td>2014-09-30</td>\n",
       "      <td>NaT</td>\n",
       "      <td>untracked</td>\n",
       "      <td>Chrome Mobile</td>\n",
       "      <td>Android Phone</td>\n",
       "      <td>NaN</td>\n",
       "      <td>en</td>\n",
       "      <td>Moweb</td>\n",
       "      <td>0</td>\n",
       "      <td>basic</td>\n",
       "      <td>20140930232253</td>\n",
       "      <td>2014-09-30</td>\n",
       "    </tr>\n",
       "    <tr>\n",
       "      <th>275523</th>\n",
       "      <td>direct</td>\n",
       "      <td>direct</td>\n",
       "      <td>NaN</td>\n",
       "      <td>NaN</td>\n",
       "      <td>2014-09-30</td>\n",
       "      <td>NaT</td>\n",
       "      <td>untracked</td>\n",
       "      <td>-unknown-</td>\n",
       "      <td>Android Phone</td>\n",
       "      <td>NaN</td>\n",
       "      <td>en</td>\n",
       "      <td>Android</td>\n",
       "      <td>23</td>\n",
       "      <td>basic</td>\n",
       "      <td>20140930232331</td>\n",
       "      <td>2014-09-30</td>\n",
       "    </tr>\n",
       "    <tr>\n",
       "      <th>275524</th>\n",
       "      <td>direct</td>\n",
       "      <td>direct</td>\n",
       "      <td>NaN</td>\n",
       "      <td>NaN</td>\n",
       "      <td>2014-09-30</td>\n",
       "      <td>NaT</td>\n",
       "      <td>untracked</td>\n",
       "      <td>-unknown-</td>\n",
       "      <td>Android Phone</td>\n",
       "      <td>NaN</td>\n",
       "      <td>en</td>\n",
       "      <td>Android</td>\n",
       "      <td>23</td>\n",
       "      <td>basic</td>\n",
       "      <td>20140930232507</td>\n",
       "      <td>2014-09-30</td>\n",
       "    </tr>\n",
       "    <tr>\n",
       "      <th>275525</th>\n",
       "      <td>direct</td>\n",
       "      <td>direct</td>\n",
       "      <td>NaN</td>\n",
       "      <td>NaN</td>\n",
       "      <td>2014-09-30</td>\n",
       "      <td>NaT</td>\n",
       "      <td>linked</td>\n",
       "      <td>Mobile Safari</td>\n",
       "      <td>iPhone</td>\n",
       "      <td>NaN</td>\n",
       "      <td>en</td>\n",
       "      <td>Moweb</td>\n",
       "      <td>0</td>\n",
       "      <td>basic</td>\n",
       "      <td>20140930232551</td>\n",
       "      <td>2014-09-30</td>\n",
       "    </tr>\n",
       "    <tr>\n",
       "      <th>275526</th>\n",
       "      <td>sem-brand</td>\n",
       "      <td>google</td>\n",
       "      <td>40.0</td>\n",
       "      <td>NaN</td>\n",
       "      <td>2014-09-30</td>\n",
       "      <td>NaT</td>\n",
       "      <td>omg</td>\n",
       "      <td>Firefox</td>\n",
       "      <td>Windows Desktop</td>\n",
       "      <td>FEMALE</td>\n",
       "      <td>en</td>\n",
       "      <td>Web</td>\n",
       "      <td>0</td>\n",
       "      <td>facebook</td>\n",
       "      <td>20140930232613</td>\n",
       "      <td>2014-09-30</td>\n",
       "    </tr>\n",
       "    <tr>\n",
       "      <th>275527</th>\n",
       "      <td>seo</td>\n",
       "      <td>facebook</td>\n",
       "      <td>39.0</td>\n",
       "      <td>NaN</td>\n",
       "      <td>2014-09-30</td>\n",
       "      <td>NaT</td>\n",
       "      <td>untracked</td>\n",
       "      <td>Mobile Safari</td>\n",
       "      <td>iPhone</td>\n",
       "      <td>MALE</td>\n",
       "      <td>en</td>\n",
       "      <td>Web</td>\n",
       "      <td>0</td>\n",
       "      <td>facebook</td>\n",
       "      <td>20140930233113</td>\n",
       "      <td>2014-09-30</td>\n",
       "    </tr>\n",
       "    <tr>\n",
       "      <th>275528</th>\n",
       "      <td>seo</td>\n",
       "      <td>google</td>\n",
       "      <td>NaN</td>\n",
       "      <td>NaN</td>\n",
       "      <td>2014-09-30</td>\n",
       "      <td>NaT</td>\n",
       "      <td>untracked</td>\n",
       "      <td>Firefox</td>\n",
       "      <td>Mac Desktop</td>\n",
       "      <td>NaN</td>\n",
       "      <td>en</td>\n",
       "      <td>Web</td>\n",
       "      <td>0</td>\n",
       "      <td>basic</td>\n",
       "      <td>20140930233305</td>\n",
       "      <td>2014-09-30</td>\n",
       "    </tr>\n",
       "    <tr>\n",
       "      <th>275529</th>\n",
       "      <td>seo</td>\n",
       "      <td>google</td>\n",
       "      <td>NaN</td>\n",
       "      <td>NaN</td>\n",
       "      <td>2014-09-30</td>\n",
       "      <td>NaT</td>\n",
       "      <td>untracked</td>\n",
       "      <td>Mobile Safari</td>\n",
       "      <td>iPad</td>\n",
       "      <td>NaN</td>\n",
       "      <td>en</td>\n",
       "      <td>Web</td>\n",
       "      <td>0</td>\n",
       "      <td>basic</td>\n",
       "      <td>20140930233535</td>\n",
       "      <td>2014-09-30</td>\n",
       "    </tr>\n",
       "    <tr>\n",
       "      <th>275530</th>\n",
       "      <td>seo</td>\n",
       "      <td>google</td>\n",
       "      <td>44.0</td>\n",
       "      <td>NaN</td>\n",
       "      <td>2014-09-30</td>\n",
       "      <td>NaT</td>\n",
       "      <td>linked</td>\n",
       "      <td>Chrome</td>\n",
       "      <td>Mac Desktop</td>\n",
       "      <td>MALE</td>\n",
       "      <td>en</td>\n",
       "      <td>Web</td>\n",
       "      <td>0</td>\n",
       "      <td>basic</td>\n",
       "      <td>20140930233902</td>\n",
       "      <td>2014-09-30</td>\n",
       "    </tr>\n",
       "    <tr>\n",
       "      <th>275531</th>\n",
       "      <td>seo</td>\n",
       "      <td>google</td>\n",
       "      <td>39.0</td>\n",
       "      <td>NaN</td>\n",
       "      <td>2014-09-30</td>\n",
       "      <td>NaT</td>\n",
       "      <td>linked</td>\n",
       "      <td>Firefox</td>\n",
       "      <td>Windows Desktop</td>\n",
       "      <td>NaN</td>\n",
       "      <td>en</td>\n",
       "      <td>Web</td>\n",
       "      <td>0</td>\n",
       "      <td>basic</td>\n",
       "      <td>20140930234128</td>\n",
       "      <td>2014-09-30</td>\n",
       "    </tr>\n",
       "    <tr>\n",
       "      <th>275532</th>\n",
       "      <td>direct</td>\n",
       "      <td>direct</td>\n",
       "      <td>34.0</td>\n",
       "      <td>NaN</td>\n",
       "      <td>2014-09-30</td>\n",
       "      <td>NaT</td>\n",
       "      <td>untracked</td>\n",
       "      <td>-unknown-</td>\n",
       "      <td>Android Phone</td>\n",
       "      <td>FEMALE</td>\n",
       "      <td>en</td>\n",
       "      <td>Android</td>\n",
       "      <td>23</td>\n",
       "      <td>facebook</td>\n",
       "      <td>20140930234425</td>\n",
       "      <td>2014-09-30</td>\n",
       "    </tr>\n",
       "    <tr>\n",
       "      <th>275533</th>\n",
       "      <td>seo</td>\n",
       "      <td>google</td>\n",
       "      <td>NaN</td>\n",
       "      <td>NaN</td>\n",
       "      <td>2014-09-30</td>\n",
       "      <td>NaT</td>\n",
       "      <td>untracked</td>\n",
       "      <td>Safari</td>\n",
       "      <td>Mac Desktop</td>\n",
       "      <td>NaN</td>\n",
       "      <td>en</td>\n",
       "      <td>Web</td>\n",
       "      <td>0</td>\n",
       "      <td>basic</td>\n",
       "      <td>20140930234515</td>\n",
       "      <td>2014-09-30</td>\n",
       "    </tr>\n",
       "    <tr>\n",
       "      <th>275534</th>\n",
       "      <td>direct</td>\n",
       "      <td>direct</td>\n",
       "      <td>40.0</td>\n",
       "      <td>NaN</td>\n",
       "      <td>2014-09-30</td>\n",
       "      <td>NaT</td>\n",
       "      <td>untracked</td>\n",
       "      <td>-unknown-</td>\n",
       "      <td>Android Phone</td>\n",
       "      <td>MALE</td>\n",
       "      <td>en</td>\n",
       "      <td>Android</td>\n",
       "      <td>23</td>\n",
       "      <td>facebook</td>\n",
       "      <td>20140930234551</td>\n",
       "      <td>2014-09-30</td>\n",
       "    </tr>\n",
       "    <tr>\n",
       "      <th>275535</th>\n",
       "      <td>direct</td>\n",
       "      <td>direct</td>\n",
       "      <td>27.0</td>\n",
       "      <td>NaN</td>\n",
       "      <td>2014-09-30</td>\n",
       "      <td>NaT</td>\n",
       "      <td>untracked</td>\n",
       "      <td>Firefox</td>\n",
       "      <td>Mac Desktop</td>\n",
       "      <td>MALE</td>\n",
       "      <td>en</td>\n",
       "      <td>Web</td>\n",
       "      <td>0</td>\n",
       "      <td>facebook</td>\n",
       "      <td>20140930234612</td>\n",
       "      <td>2014-09-30</td>\n",
       "    </tr>\n",
       "    <tr>\n",
       "      <th>275536</th>\n",
       "      <td>direct</td>\n",
       "      <td>direct</td>\n",
       "      <td>24.0</td>\n",
       "      <td>NaN</td>\n",
       "      <td>2014-09-30</td>\n",
       "      <td>NaT</td>\n",
       "      <td>linked</td>\n",
       "      <td>Mobile Safari</td>\n",
       "      <td>iPhone</td>\n",
       "      <td>FEMALE</td>\n",
       "      <td>en</td>\n",
       "      <td>Web</td>\n",
       "      <td>0</td>\n",
       "      <td>facebook</td>\n",
       "      <td>20140930234617</td>\n",
       "      <td>2014-09-30</td>\n",
       "    </tr>\n",
       "    <tr>\n",
       "      <th>275537</th>\n",
       "      <td>direct</td>\n",
       "      <td>direct</td>\n",
       "      <td>NaN</td>\n",
       "      <td>NaN</td>\n",
       "      <td>2014-09-30</td>\n",
       "      <td>NaT</td>\n",
       "      <td>untracked</td>\n",
       "      <td>-unknown-</td>\n",
       "      <td>iPhone</td>\n",
       "      <td>NaN</td>\n",
       "      <td>en</td>\n",
       "      <td>iOS</td>\n",
       "      <td>25</td>\n",
       "      <td>basic</td>\n",
       "      <td>20140930234703</td>\n",
       "      <td>2014-09-30</td>\n",
       "    </tr>\n",
       "    <tr>\n",
       "      <th>275538</th>\n",
       "      <td>sem-brand</td>\n",
       "      <td>google</td>\n",
       "      <td>55.0</td>\n",
       "      <td>NaN</td>\n",
       "      <td>2014-09-30</td>\n",
       "      <td>NaT</td>\n",
       "      <td>omg</td>\n",
       "      <td>Firefox</td>\n",
       "      <td>Windows Desktop</td>\n",
       "      <td>MALE</td>\n",
       "      <td>en</td>\n",
       "      <td>Web</td>\n",
       "      <td>0</td>\n",
       "      <td>basic</td>\n",
       "      <td>20140930234751</td>\n",
       "      <td>2014-09-30</td>\n",
       "    </tr>\n",
       "    <tr>\n",
       "      <th>275539</th>\n",
       "      <td>direct</td>\n",
       "      <td>direct</td>\n",
       "      <td>34.0</td>\n",
       "      <td>NaN</td>\n",
       "      <td>2014-09-30</td>\n",
       "      <td>NaT</td>\n",
       "      <td>untracked</td>\n",
       "      <td>Chrome</td>\n",
       "      <td>Mac Desktop</td>\n",
       "      <td>NaN</td>\n",
       "      <td>en</td>\n",
       "      <td>Web</td>\n",
       "      <td>0</td>\n",
       "      <td>basic</td>\n",
       "      <td>20140930234904</td>\n",
       "      <td>2014-09-30</td>\n",
       "    </tr>\n",
       "    <tr>\n",
       "      <th>275540</th>\n",
       "      <td>direct</td>\n",
       "      <td>direct</td>\n",
       "      <td>32.0</td>\n",
       "      <td>NaN</td>\n",
       "      <td>2014-09-30</td>\n",
       "      <td>NaT</td>\n",
       "      <td>linked</td>\n",
       "      <td>Chrome</td>\n",
       "      <td>Windows Desktop</td>\n",
       "      <td>MALE</td>\n",
       "      <td>en</td>\n",
       "      <td>Web</td>\n",
       "      <td>0</td>\n",
       "      <td>basic</td>\n",
       "      <td>20140930235000</td>\n",
       "      <td>2014-09-30</td>\n",
       "    </tr>\n",
       "    <tr>\n",
       "      <th>275541</th>\n",
       "      <td>seo</td>\n",
       "      <td>yahoo</td>\n",
       "      <td>NaN</td>\n",
       "      <td>NaN</td>\n",
       "      <td>2014-09-30</td>\n",
       "      <td>NaT</td>\n",
       "      <td>linked</td>\n",
       "      <td>Chrome</td>\n",
       "      <td>Windows Desktop</td>\n",
       "      <td>NaN</td>\n",
       "      <td>en</td>\n",
       "      <td>Web</td>\n",
       "      <td>0</td>\n",
       "      <td>basic</td>\n",
       "      <td>20140930235019</td>\n",
       "      <td>2014-09-30</td>\n",
       "    </tr>\n",
       "    <tr>\n",
       "      <th>275542</th>\n",
       "      <td>direct</td>\n",
       "      <td>direct</td>\n",
       "      <td>31.0</td>\n",
       "      <td>NaN</td>\n",
       "      <td>2014-09-30</td>\n",
       "      <td>NaT</td>\n",
       "      <td>untracked</td>\n",
       "      <td>IE</td>\n",
       "      <td>Windows Desktop</td>\n",
       "      <td>NaN</td>\n",
       "      <td>en</td>\n",
       "      <td>Web</td>\n",
       "      <td>0</td>\n",
       "      <td>basic</td>\n",
       "      <td>20140930235232</td>\n",
       "      <td>2014-09-30</td>\n",
       "    </tr>\n",
       "    <tr>\n",
       "      <th>275543</th>\n",
       "      <td>direct</td>\n",
       "      <td>direct</td>\n",
       "      <td>NaN</td>\n",
       "      <td>NaN</td>\n",
       "      <td>2014-09-30</td>\n",
       "      <td>NaT</td>\n",
       "      <td>untracked</td>\n",
       "      <td>-unknown-</td>\n",
       "      <td>Android Phone</td>\n",
       "      <td>NaN</td>\n",
       "      <td>ko</td>\n",
       "      <td>Android</td>\n",
       "      <td>23</td>\n",
       "      <td>basic</td>\n",
       "      <td>20140930235306</td>\n",
       "      <td>2014-09-30</td>\n",
       "    </tr>\n",
       "    <tr>\n",
       "      <th>275544</th>\n",
       "      <td>direct</td>\n",
       "      <td>direct</td>\n",
       "      <td>NaN</td>\n",
       "      <td>NaN</td>\n",
       "      <td>2014-09-30</td>\n",
       "      <td>NaT</td>\n",
       "      <td>linked</td>\n",
       "      <td>Firefox</td>\n",
       "      <td>Windows Desktop</td>\n",
       "      <td>NaN</td>\n",
       "      <td>de</td>\n",
       "      <td>Web</td>\n",
       "      <td>0</td>\n",
       "      <td>basic</td>\n",
       "      <td>20140930235408</td>\n",
       "      <td>2014-09-30</td>\n",
       "    </tr>\n",
       "    <tr>\n",
       "      <th>275545</th>\n",
       "      <td>sem-brand</td>\n",
       "      <td>google</td>\n",
       "      <td>NaN</td>\n",
       "      <td>NaN</td>\n",
       "      <td>2014-09-30</td>\n",
       "      <td>NaT</td>\n",
       "      <td>omg</td>\n",
       "      <td>Safari</td>\n",
       "      <td>Mac Desktop</td>\n",
       "      <td>NaN</td>\n",
       "      <td>en</td>\n",
       "      <td>Web</td>\n",
       "      <td>0</td>\n",
       "      <td>basic</td>\n",
       "      <td>20140930235430</td>\n",
       "      <td>2014-09-30</td>\n",
       "    </tr>\n",
       "    <tr>\n",
       "      <th>275546</th>\n",
       "      <td>other</td>\n",
       "      <td>other</td>\n",
       "      <td>49.0</td>\n",
       "      <td>NaN</td>\n",
       "      <td>2014-09-30</td>\n",
       "      <td>NaT</td>\n",
       "      <td>tracked-other</td>\n",
       "      <td>Chrome</td>\n",
       "      <td>Windows Desktop</td>\n",
       "      <td>FEMALE</td>\n",
       "      <td>en</td>\n",
       "      <td>Web</td>\n",
       "      <td>0</td>\n",
       "      <td>basic</td>\n",
       "      <td>20140930235901</td>\n",
       "      <td>2014-09-30</td>\n",
       "    </tr>\n",
       "  </tbody>\n",
       "</table>\n",
       "<p>275547 rows × 16 columns</p>\n",
       "</div>"
      ],
      "text/plain": [
       "       affiliate_channel affiliate_provider   age country_destination  \\\n",
       "0                 direct             direct   NaN                 NDF   \n",
       "1                    seo             google  38.0                 NDF   \n",
       "2                 direct             direct  56.0                  US   \n",
       "3                 direct             direct  42.0               other   \n",
       "4                 direct             direct  41.0                  US   \n",
       "5                  other              other   NaN                  US   \n",
       "6                  other         craigslist  46.0                  US   \n",
       "7                 direct             direct  47.0                  US   \n",
       "8                  other         craigslist  50.0                  US   \n",
       "9                  other         craigslist  46.0                  US   \n",
       "10                 other         craigslist  36.0                  US   \n",
       "11                 other         craigslist  47.0                 NDF   \n",
       "12                direct             direct   NaN                  FR   \n",
       "13                 other         craigslist  37.0                 NDF   \n",
       "14                 other         craigslist  36.0                 NDF   \n",
       "15                direct             direct  33.0                  CA   \n",
       "16                 other         craigslist   NaN                 NDF   \n",
       "17                 other         craigslist  31.0                  US   \n",
       "18                   seo           facebook   NaN                 NDF   \n",
       "19                direct             direct  29.0                  FR   \n",
       "20                direct             direct   NaN                  US   \n",
       "21                direct             direct  30.0                  US   \n",
       "22                   seo             google  40.0                  US   \n",
       "23                 other         craigslist   NaN                 NDF   \n",
       "24                   seo             google  40.0                 NDF   \n",
       "25                 other         craigslist  26.0                  FR   \n",
       "26                 other              other   NaN                 NDF   \n",
       "27                 other         craigslist  32.0                  US   \n",
       "28                direct             direct  35.0                  FR   \n",
       "29                direct             direct  37.0                  US   \n",
       "...                  ...                ...   ...                 ...   \n",
       "275517            direct             direct   NaN                 NaN   \n",
       "275518            direct             direct  48.0                 NaN   \n",
       "275519               seo             google   NaN                 NaN   \n",
       "275520            direct             direct  24.0                 NaN   \n",
       "275521               seo           facebook  32.0                 NaN   \n",
       "275522            direct             direct   NaN                 NaN   \n",
       "275523            direct             direct   NaN                 NaN   \n",
       "275524            direct             direct   NaN                 NaN   \n",
       "275525            direct             direct   NaN                 NaN   \n",
       "275526         sem-brand             google  40.0                 NaN   \n",
       "275527               seo           facebook  39.0                 NaN   \n",
       "275528               seo             google   NaN                 NaN   \n",
       "275529               seo             google   NaN                 NaN   \n",
       "275530               seo             google  44.0                 NaN   \n",
       "275531               seo             google  39.0                 NaN   \n",
       "275532            direct             direct  34.0                 NaN   \n",
       "275533               seo             google   NaN                 NaN   \n",
       "275534            direct             direct  40.0                 NaN   \n",
       "275535            direct             direct  27.0                 NaN   \n",
       "275536            direct             direct  24.0                 NaN   \n",
       "275537            direct             direct   NaN                 NaN   \n",
       "275538         sem-brand             google  55.0                 NaN   \n",
       "275539            direct             direct  34.0                 NaN   \n",
       "275540            direct             direct  32.0                 NaN   \n",
       "275541               seo              yahoo   NaN                 NaN   \n",
       "275542            direct             direct  31.0                 NaN   \n",
       "275543            direct             direct   NaN                 NaN   \n",
       "275544            direct             direct   NaN                 NaN   \n",
       "275545         sem-brand             google   NaN                 NaN   \n",
       "275546             other              other  49.0                 NaN   \n",
       "\n",
       "       date_account_created date_first_booking first_affiliate_tracked  \\\n",
       "0                2010-06-28                NaT               untracked   \n",
       "1                2011-05-25                NaT               untracked   \n",
       "2                2010-09-28         2010-08-02               untracked   \n",
       "3                2011-12-05         2012-09-08               untracked   \n",
       "4                2010-09-14         2010-02-18               untracked   \n",
       "5                2010-01-01         2010-01-02                     omg   \n",
       "6                2010-01-02         2010-01-05               untracked   \n",
       "7                2010-01-03         2010-01-13                     omg   \n",
       "8                2010-01-04         2010-07-29               untracked   \n",
       "9                2010-01-04         2010-01-04                     omg   \n",
       "10               2010-01-04         2010-01-06               untracked   \n",
       "11               2010-01-05                NaT               untracked   \n",
       "12               2010-01-05         2010-01-18                     NaN   \n",
       "13               2010-01-05                NaT                  linked   \n",
       "14               2010-01-07                NaT               untracked   \n",
       "15               2010-01-07         2010-01-08               untracked   \n",
       "16               2010-01-07                NaT                     NaN   \n",
       "17               2010-01-07         2010-01-09                     NaN   \n",
       "18               2010-01-08                NaT                     NaN   \n",
       "19               2010-01-10         2010-01-10               untracked   \n",
       "20               2010-01-10         2010-01-18                     NaN   \n",
       "21               2010-01-10         2010-01-11                  linked   \n",
       "22               2010-01-11         2010-01-11               untracked   \n",
       "23               2010-01-11                NaT               untracked   \n",
       "24               2010-01-11                NaT               untracked   \n",
       "25               2010-01-12         2010-01-15               untracked   \n",
       "26               2010-01-12                NaT               untracked   \n",
       "27               2010-01-12         2010-01-22               untracked   \n",
       "28               2010-01-13         2010-01-13                     NaN   \n",
       "29               2010-01-13         2010-01-19               untracked   \n",
       "...                     ...                ...                     ...   \n",
       "275517           2014-09-30                NaT               untracked   \n",
       "275518           2014-09-30                NaT               untracked   \n",
       "275519           2014-09-30                NaT               untracked   \n",
       "275520           2014-09-30                NaT               untracked   \n",
       "275521           2014-09-30                NaT               untracked   \n",
       "275522           2014-09-30                NaT               untracked   \n",
       "275523           2014-09-30                NaT               untracked   \n",
       "275524           2014-09-30                NaT               untracked   \n",
       "275525           2014-09-30                NaT                  linked   \n",
       "275526           2014-09-30                NaT                     omg   \n",
       "275527           2014-09-30                NaT               untracked   \n",
       "275528           2014-09-30                NaT               untracked   \n",
       "275529           2014-09-30                NaT               untracked   \n",
       "275530           2014-09-30                NaT                  linked   \n",
       "275531           2014-09-30                NaT                  linked   \n",
       "275532           2014-09-30                NaT               untracked   \n",
       "275533           2014-09-30                NaT               untracked   \n",
       "275534           2014-09-30                NaT               untracked   \n",
       "275535           2014-09-30                NaT               untracked   \n",
       "275536           2014-09-30                NaT                  linked   \n",
       "275537           2014-09-30                NaT               untracked   \n",
       "275538           2014-09-30                NaT                     omg   \n",
       "275539           2014-09-30                NaT               untracked   \n",
       "275540           2014-09-30                NaT                  linked   \n",
       "275541           2014-09-30                NaT                  linked   \n",
       "275542           2014-09-30                NaT               untracked   \n",
       "275543           2014-09-30                NaT               untracked   \n",
       "275544           2014-09-30                NaT                  linked   \n",
       "275545           2014-09-30                NaT                     omg   \n",
       "275546           2014-09-30                NaT           tracked-other   \n",
       "\n",
       "        first_browser first_device_type  gender language signup_app  \\\n",
       "0              Chrome       Mac Desktop     NaN       en        Web   \n",
       "1              Chrome       Mac Desktop    MALE       en        Web   \n",
       "2                  IE   Windows Desktop  FEMALE       en        Web   \n",
       "3             Firefox       Mac Desktop  FEMALE       en        Web   \n",
       "4              Chrome       Mac Desktop     NaN       en        Web   \n",
       "5              Chrome       Mac Desktop     NaN       en        Web   \n",
       "6              Safari       Mac Desktop  FEMALE       en        Web   \n",
       "7              Safari       Mac Desktop  FEMALE       en        Web   \n",
       "8              Safari       Mac Desktop  FEMALE       en        Web   \n",
       "9             Firefox       Mac Desktop     NaN       en        Web   \n",
       "10            Firefox       Mac Desktop  FEMALE       en        Web   \n",
       "11          -unknown-            iPhone  FEMALE       en        Web   \n",
       "12          -unknown-     Other/Unknown     NaN       en        Web   \n",
       "13            Firefox       Mac Desktop  FEMALE       en        Web   \n",
       "14      Mobile Safari            iPhone  FEMALE       en        Web   \n",
       "15             Chrome   Windows Desktop  FEMALE       en        Web   \n",
       "16          -unknown-     Other/Unknown     NaN       en        Web   \n",
       "17          -unknown-     Other/Unknown     NaN       en        Web   \n",
       "18          -unknown-     Other/Unknown     NaN       en        Web   \n",
       "19             Chrome       Mac Desktop  FEMALE       en        Web   \n",
       "20          -unknown-     Other/Unknown     NaN       en        Web   \n",
       "21             Chrome       Mac Desktop    MALE       en        Web   \n",
       "22          -unknown-            iPhone     NaN       en        Web   \n",
       "23             Safari       Mac Desktop     NaN       en        Web   \n",
       "24            Firefox       Mac Desktop  FEMALE       en        Web   \n",
       "25             Chrome       Mac Desktop  FEMALE       en        Web   \n",
       "26          -unknown-     Other/Unknown     NaN       en        Web   \n",
       "27             Chrome   Desktop (Other)  FEMALE       en        Web   \n",
       "28          -unknown-     Other/Unknown     NaN       en        Web   \n",
       "29          -unknown-    Android Tablet     NaN       en        Web   \n",
       "...               ...               ...     ...      ...        ...   \n",
       "275517      -unknown-     Android Phone     NaN       en    Android   \n",
       "275518         Safari       Mac Desktop  FEMALE       en        Web   \n",
       "275519        Firefox       Mac Desktop     NaN       en        Web   \n",
       "275520      -unknown-            iPhone  FEMALE       en        iOS   \n",
       "275521  Mobile Safari              iPad  FEMALE       en        Web   \n",
       "275522  Chrome Mobile     Android Phone     NaN       en      Moweb   \n",
       "275523      -unknown-     Android Phone     NaN       en    Android   \n",
       "275524      -unknown-     Android Phone     NaN       en    Android   \n",
       "275525  Mobile Safari            iPhone     NaN       en      Moweb   \n",
       "275526        Firefox   Windows Desktop  FEMALE       en        Web   \n",
       "275527  Mobile Safari            iPhone    MALE       en        Web   \n",
       "275528        Firefox       Mac Desktop     NaN       en        Web   \n",
       "275529  Mobile Safari              iPad     NaN       en        Web   \n",
       "275530         Chrome       Mac Desktop    MALE       en        Web   \n",
       "275531        Firefox   Windows Desktop     NaN       en        Web   \n",
       "275532      -unknown-     Android Phone  FEMALE       en    Android   \n",
       "275533         Safari       Mac Desktop     NaN       en        Web   \n",
       "275534      -unknown-     Android Phone    MALE       en    Android   \n",
       "275535        Firefox       Mac Desktop    MALE       en        Web   \n",
       "275536  Mobile Safari            iPhone  FEMALE       en        Web   \n",
       "275537      -unknown-            iPhone     NaN       en        iOS   \n",
       "275538        Firefox   Windows Desktop    MALE       en        Web   \n",
       "275539         Chrome       Mac Desktop     NaN       en        Web   \n",
       "275540         Chrome   Windows Desktop    MALE       en        Web   \n",
       "275541         Chrome   Windows Desktop     NaN       en        Web   \n",
       "275542             IE   Windows Desktop     NaN       en        Web   \n",
       "275543      -unknown-     Android Phone     NaN       ko    Android   \n",
       "275544        Firefox   Windows Desktop     NaN       de        Web   \n",
       "275545         Safari       Mac Desktop     NaN       en        Web   \n",
       "275546         Chrome   Windows Desktop  FEMALE       en        Web   \n",
       "\n",
       "        signup_flow signup_method  timestamp_first_active date_first_active  \n",
       "0                 0      facebook          20090319043255        2009-03-19  \n",
       "1                 0      facebook          20090523174809        2009-05-23  \n",
       "2                 3         basic          20090609231247        2009-06-09  \n",
       "3                 0      facebook          20091031060129        2009-10-31  \n",
       "4                 0         basic          20091208061105        2009-12-08  \n",
       "5                 0         basic          20100101215619        2010-01-01  \n",
       "6                 0         basic          20100102012558        2010-01-02  \n",
       "7                 0         basic          20100103191905        2010-01-03  \n",
       "8                 0         basic          20100104004211        2010-01-04  \n",
       "9                 0         basic          20100104023758        2010-01-04  \n",
       "10                0         basic          20100104194251        2010-01-04  \n",
       "11                0         basic          20100105051812        2010-01-05  \n",
       "12                0         basic          20100105060859        2010-01-05  \n",
       "13                0         basic          20100105083259        2010-01-05  \n",
       "14                0         basic          20100107055820        2010-01-07  \n",
       "15                0         basic          20100107204555        2010-01-07  \n",
       "16                0         basic          20100107215125        2010-01-07  \n",
       "17                0         basic          20100107224625        2010-01-07  \n",
       "18                0         basic          20100108015641        2010-01-08  \n",
       "19                0         basic          20100110010817        2010-01-10  \n",
       "20                0         basic          20100110152120        2010-01-10  \n",
       "21                0         basic          20100110220941        2010-01-10  \n",
       "22                0         basic          20100111031438        2010-01-11  \n",
       "23                0         basic          20100111224015        2010-01-11  \n",
       "24                0         basic          20100111230808        2010-01-11  \n",
       "25                0         basic          20100112131444        2010-01-12  \n",
       "26                0         basic          20100112155420        2010-01-12  \n",
       "27                0         basic          20100112205949        2010-01-12  \n",
       "28                0         basic          20100113044650        2010-01-13  \n",
       "29                0         basic          20100113064333        2010-01-13  \n",
       "...             ...           ...                     ...               ...  \n",
       "275517           12        google          20140930231454        2014-09-30  \n",
       "275518            0         basic          20140930231518        2014-09-30  \n",
       "275519            0         basic          20140930231952        2014-09-30  \n",
       "275520           25      facebook          20140930232126        2014-09-30  \n",
       "275521            0      facebook          20140930232237        2014-09-30  \n",
       "275522            0         basic          20140930232253        2014-09-30  \n",
       "275523           23         basic          20140930232331        2014-09-30  \n",
       "275524           23         basic          20140930232507        2014-09-30  \n",
       "275525            0         basic          20140930232551        2014-09-30  \n",
       "275526            0      facebook          20140930232613        2014-09-30  \n",
       "275527            0      facebook          20140930233113        2014-09-30  \n",
       "275528            0         basic          20140930233305        2014-09-30  \n",
       "275529            0         basic          20140930233535        2014-09-30  \n",
       "275530            0         basic          20140930233902        2014-09-30  \n",
       "275531            0         basic          20140930234128        2014-09-30  \n",
       "275532           23      facebook          20140930234425        2014-09-30  \n",
       "275533            0         basic          20140930234515        2014-09-30  \n",
       "275534           23      facebook          20140930234551        2014-09-30  \n",
       "275535            0      facebook          20140930234612        2014-09-30  \n",
       "275536            0      facebook          20140930234617        2014-09-30  \n",
       "275537           25         basic          20140930234703        2014-09-30  \n",
       "275538            0         basic          20140930234751        2014-09-30  \n",
       "275539            0         basic          20140930234904        2014-09-30  \n",
       "275540            0         basic          20140930235000        2014-09-30  \n",
       "275541            0         basic          20140930235019        2014-09-30  \n",
       "275542            0         basic          20140930235232        2014-09-30  \n",
       "275543           23         basic          20140930235306        2014-09-30  \n",
       "275544            0         basic          20140930235408        2014-09-30  \n",
       "275545            0         basic          20140930235430        2014-09-30  \n",
       "275546            0         basic          20140930235901        2014-09-30  \n",
       "\n",
       "[275547 rows x 16 columns]"
      ]
     },
     "execution_count": 43,
     "metadata": {},
     "output_type": "execute_result"
    }
   ],
   "source": [
    "users\n"
   ]
  },
  {
   "cell_type": "code",
   "execution_count": null,
   "metadata": {},
   "outputs": [],
   "source": []
  }
 ],
 "metadata": {
  "kernelspec": {
   "display_name": "Python 3",
   "language": "python",
   "name": "python3"
  },
  "language_info": {
   "codemirror_mode": {
    "name": "ipython",
    "version": 3
   },
   "file_extension": ".py",
   "mimetype": "text/x-python",
   "name": "python",
   "nbconvert_exporter": "python",
   "pygments_lexer": "ipython3",
   "version": "3.6.4"
  }
 },
 "nbformat": 4,
 "nbformat_minor": 1
}
